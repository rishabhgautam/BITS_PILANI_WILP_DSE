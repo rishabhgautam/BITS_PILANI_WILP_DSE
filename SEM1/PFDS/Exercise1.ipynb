{
 "cells": [
  {
   "cell_type": "code",
   "execution_count": 1,
   "metadata": {
    "collapsed": false
   },
   "outputs": [
    {
     "name": "stdout",
     "output_type": "stream",
     "text": [
      "Enter a number: 124332\n",
      "The sum of the digits of 124332 is 15\n"
     ]
    }
   ],
   "source": [
    "#  Given a number, find the sum of its digits. Take the number as an input from the user.\n",
    "\n",
    "number = input(\"Enter a number: \")  # Take input from the user\n",
    "sum_of_digits = 0  # Initialize a variable to hold the sum of digits\n",
    "\n",
    "# Loop through each digit in the number\n",
    "for digit in number:\n",
    "    sum_of_digits += int(digit)  # Convert the digit to an integer and add it to the sum\n",
    "\n",
    "print(\"The sum of the digits of\", number, \"is\", sum_of_digits)  # Print the result"
   ]
  },
  {
   "cell_type": "code",
   "execution_count": 2,
   "metadata": {
    "collapsed": false
   },
   "outputs": [
    {
     "name": "stdout",
     "output_type": "stream",
     "text": [
      "Enter a number: 2784\n",
      "Enter the order: 4\n",
      "2784 is not an Armstrong number of order 4\n"
     ]
    }
   ],
   "source": [
    "# 2. Given a number, check whether the given number is an Armstrong number or not. \n",
    "# A positive integer is called an Armstrong number of order n if: abcd... = an + bn+ cn + dn + ... \n",
    "# Example: 153 = 1*1*1 + 5*5*5 + 3*3*3 153 is an Armstrong number of order 3. \n",
    "# Inputs from the user will be number and order n.\n",
    "\n",
    "number = int(input(\"Enter a number: \"))  # Take input from the user\n",
    "order = int(input(\"Enter the order: \"))  # Take input for the order\n",
    "\n",
    "# Initialize variables\n",
    "sum_of_powers = 0\n",
    "temp = number\n",
    "\n",
    "# Calculate the sum of powers of digits\n",
    "while temp > 0:\n",
    "    digit = temp % 10\n",
    "    sum_of_powers += digit ** order\n",
    "    temp //= 10\n",
    "\n",
    "# Check if the number is an Armstrong number\n",
    "if number == sum_of_powers:\n",
    "    print(number, \"is an Armstrong number of order\", order)\n",
    "else:\n",
    "    print(number, \"is not an Armstrong number of order\", order)"
   ]
  },
  {
   "cell_type": "code",
   "execution_count": 3,
   "metadata": {
    "collapsed": false
   },
   "outputs": [
    {
     "name": "stdout",
     "output_type": "stream",
     "text": [
      "Enter a string: rishabh\n",
      "The string is not a palindrome\n"
     ]
    }
   ],
   "source": [
    "# 3. Given a string, write a python function to check if it is palindrome or not. \n",
    "# A string is said to be palindrome if the reverse of the string is the same as string. \n",
    "# For example, “malayalam” is a palindrome, but “music” is not a palindrome.\n",
    "\n",
    "def is_palindrome(string):\n",
    "    # Remove any spaces and convert to lowercase\n",
    "    string = string.replace(\" \", \"\").lower()\n",
    "    \n",
    "    # Check if the string is equal to its reverse\n",
    "    if string == string[::-1]:\n",
    "        return True\n",
    "    else:\n",
    "        return False\n",
    "\n",
    "string = input(\"Enter a string: \")\n",
    "if is_palindrome(string):\n",
    "    print(\"The string is a palindrome\")\n",
    "else:\n",
    "    print(\"The string is not a palindrome\")"
   ]
  },
  {
   "cell_type": "code",
   "execution_count": 4,
   "metadata": {
    "collapsed": false
   },
   "outputs": [
    {
     "name": "stdout",
     "output_type": "stream",
     "text": [
      "1 : 4\n",
      "2 : 3\n",
      "3 : 2\n",
      "4 : 1\n"
     ]
    }
   ],
   "source": [
    "# 4. Given an array which may contain duplicates, print all elements and their frequencies.\n",
    "\n",
    "def print_element_frequencies(arr):\n",
    "    frequency_dict = {}\n",
    "    \n",
    "    # Count frequencies of elements in the array\n",
    "    for element in arr:\n",
    "        if element in frequency_dict:\n",
    "            frequency_dict[element] += 1\n",
    "        else:\n",
    "            frequency_dict[element] = 1\n",
    "    \n",
    "    for element, frequency in frequency_dict.items():\n",
    "        print(element, \":\", frequency)\n",
    "\n",
    "arr = [1, 2, 3, 2, 1, 1, 4, 3, 2, 1]\n",
    "print_element_frequencies(arr)"
   ]
  },
  {
   "cell_type": "code",
   "execution_count": 5,
   "metadata": {
    "collapsed": false
   },
   "outputs": [
    {
     "name": "stdout",
     "output_type": "stream",
     "text": [
      "2 2 3 "
     ]
    }
   ],
   "source": [
    "# 5. Given a number n, write a function to print allprime factors of n. \n",
    "# For example, if the input number is 12, then output should be \"2 2 3\"\n",
    "\n",
    "def print_prime_factors(n):\n",
    "    while n % 2 == 0:\n",
    "        print(2, end=\" \")\n",
    "        n //= 2\n",
    "    \n",
    "    for i in range(3, int(n**0.5)+1, 2):\n",
    "        while n % i == 0:\n",
    "            print(i, end=\" \")\n",
    "            n //= i\n",
    "    \n",
    "    if n > 2:\n",
    "        print(n, end=\" \")\n",
    "\n",
    "n = 12\n",
    "print_prime_factors(n)"
   ]
  },
  {
   "cell_type": "code",
   "execution_count": 6,
   "metadata": {
    "collapsed": false
   },
   "outputs": [
    {
     "name": "stdout",
     "output_type": "stream",
     "text": [
      "The value of 5 C 2 is 10\n"
     ]
    }
   ],
   "source": [
    "# 6. Given two numbers n and r, find the value of nCr (binomial coefficient:nCr = (n!) / (r! * (n-r)!))\n",
    "\n",
    "import math\n",
    "def binomial_coefficient(n, r):\n",
    "    # Calculate factorials\n",
    "    n_factorial = math.factorial(n)\n",
    "    r_factorial = math.factorial(r)\n",
    "    n_minus_r_factorial = math.factorial(n - r)\n",
    "    \n",
    "    nCr = n_factorial // (r_factorial * n_minus_r_factorial)\n",
    "    return nCr\n",
    "\n",
    "n = 5\n",
    "r = 2\n",
    "result = binomial_coefficient(n, r)\n",
    "print(\"The value of\", n, \"C\", r, \"is\", result)"
   ]
  },
  {
   "cell_type": "code",
   "execution_count": 7,
   "metadata": {
    "collapsed": false
   },
   "outputs": [
    {
     "name": "stdout",
     "output_type": "stream",
     "text": [
      "Linear Search: Element 9 found at index 4\n",
      "Binary Search: Element 9 found at index 4\n"
     ]
    }
   ],
   "source": [
    "# 7. Searching: Given a sorted array arr[] of n elements, write a function to search a given element x in arr[]. \n",
    "# Do it using linear and binary search techniques.\n",
    "def linear_search(arr, x):\n",
    "    for i in range(len(arr)):\n",
    "        if arr[i] == x:\n",
    "            return i  # Return the index of the found element\n",
    "    return -1  # Return -1 if the element is not found\n",
    "\n",
    "def binary_search(arr, x):\n",
    "    low = 0\n",
    "    high = len(arr) - 1\n",
    "    \n",
    "    while low <= high:\n",
    "        mid = (low + high) // 2\n",
    "        if arr[mid] == x:\n",
    "            return mid  # Return the index of the found element\n",
    "        elif arr[mid] < x:\n",
    "            low = mid + 1\n",
    "        else:\n",
    "            high = mid - 1\n",
    "    \n",
    "    return -1  # Return -1 if the element is not found\n",
    "\n",
    "arr = [1, 3, 5, 7, 9, 11, 13]\n",
    "x = 9\n",
    "# Linear search\n",
    "linear_result = linear_search(arr, x)\n",
    "if linear_result != -1:\n",
    "    print(\"Linear Search: Element\", x, \"found at index\", linear_result)\n",
    "else:\n",
    "    print(\"Linear Search: Element\", x, \"not found\")\n",
    "\n",
    "# Binary search\n",
    "binary_result = binary_search(arr, x)\n",
    "if binary_result != -1:\n",
    "    print(\"Binary Search: Element\", x, \"found at index\", binary_result)\n",
    "else:\n",
    "    print(\"Binary Search: Element\", x, \"not found\")"
   ]
  },
  {
   "cell_type": "code",
   "execution_count": 8,
   "metadata": {
    "collapsed": false
   },
   "outputs": [
    {
     "name": "stdout",
     "output_type": "stream",
     "text": [
      "Enter the filename: C:\\Users\\Rishabh Gautam\\Desktop\\BITS\\Semester1\\Python Fundamentals for Data Science\\Assignments\\test_file.txt\n",
      "Word Frequency:\n",
      "hi : 1\n",
      "this : 2\n",
      "is : 1\n",
      "a : 1\n",
      "demo : 1\n",
      "file : 2\n",
      "to : 2\n",
      "check : 1\n",
      "the : 3\n",
      "frequency : 1\n",
      "of : 2\n",
      "occurrence : 1\n",
      "each : 1\n",
      "word : 1\n",
      "in : 1\n",
      "text : 1\n",
      "and : 1\n",
      "find : 1\n",
      "3 : 1\n",
      "most : 1\n",
      "frequent : 1\n",
      "words : 1\n",
      "as : 1\n",
      "well : 1\n",
      "Top 3 Words:\n",
      "the : 3\n",
      "this : 2\n",
      "file : 2\n"
     ]
    }
   ],
   "source": [
    "# 8. Input a text file (containing 1 or more paragraphs of English text) from the user, parse this file to display \n",
    "# the frequency of occurrence of each word in this text file. Find the 3 most frequent words as well.\n",
    "def count_word_frequency(filename):\n",
    "    word_freq = {}\n",
    "    \n",
    "    with open(filename, 'r') as file:\n",
    "        text = file.read()\n",
    "    \n",
    "    text = text.lower()\n",
    "    text = ''.join(c if c.isalnum() or c.isspace() else ' ' for c in text)\n",
    "    words = text.split()\n",
    "    \n",
    "    for word in words:\n",
    "        if word in word_freq:\n",
    "            word_freq[word] += 1\n",
    "        else:\n",
    "            word_freq[word] = 1\n",
    "    \n",
    "    return word_freq\n",
    "\n",
    "def find_top_n_words(word_freq, n):\n",
    "    sorted_word_freq = sorted(word_freq.items(), key=lambda x: x[1], reverse=True)\n",
    "    top_n_words = sorted_word_freq[:n]\n",
    "    return top_n_words\n",
    "\n",
    "filename = input(\"Enter the filename: \")\n",
    "word_freq = count_word_frequency(filename)\n",
    "\n",
    "print(\"Word Frequency:\")\n",
    "for word, freq in word_freq.items():\n",
    "    print(word, \":\", freq)\n",
    "\n",
    "n = 3\n",
    "top_n_words = find_top_n_words(word_freq, n)\n",
    "print(\"Top\", n, \"Words:\")\n",
    "for word, freq in top_n_words:\n",
    "    print(word, \":\", freq)"
   ]
  },
  {
   "cell_type": "code",
   "execution_count": null,
   "metadata": {
    "collapsed": true
   },
   "outputs": [],
   "source": []
  }
 ],
 "metadata": {
  "kernelspec": {
   "display_name": "Python 3",
   "language": "python",
   "name": "python3"
  },
  "language_info": {
   "codemirror_mode": {
    "name": "ipython",
    "version": 3
   },
   "file_extension": ".py",
   "mimetype": "text/x-python",
   "name": "python",
   "nbconvert_exporter": "python",
   "pygments_lexer": "ipython3",
   "version": "3.6.6"
  }
 },
 "nbformat": 4,
 "nbformat_minor": 2
}
